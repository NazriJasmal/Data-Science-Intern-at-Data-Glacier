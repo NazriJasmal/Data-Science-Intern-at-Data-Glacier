{
  "cells": [
    {
      "cell_type": "markdown",
      "metadata": {
        "id": "wznG34O5Z8CX"
      },
      "source": [
        "## Task: File Ingestion and Schema validation\n",
        "\n",
        "* Take any csv/text file of 2+ GB of your choice. --- (You can do this assignment on Google colab)\n",
        "\n",
        "* Read the file ( Present approach of reading the file )\n",
        "\n",
        "* Try different methods of file reading eg: Dask, Modin, Ray, pandas and present your findings in term of computational     efficiency\n",
        "\n",
        "* Perform basic validation on data columns : eg: remove special character , white spaces from the col name\n",
        "\n",
        "* As you already know the schema hence create a YAML file and write the column name in YAML file. --define separator of   \n",
        "  read and write file, column name in YAML\n",
        "\n",
        "* Validate number of columns and column name of ingested file with YAML.\n",
        "\n",
        "* Write the file in pipe separated text file (|) in gz format.\n",
        "\n",
        "* Create a summary of the file:\n",
        "\n",
        "    Total number of rows,\n",
        "\n",
        "    total number of columns\n",
        "\n",
        "    file size"
      ]
    },
    {
      "cell_type": "code",
      "source": [
        "import os\n",
        "import time"
      ],
      "metadata": {
        "id": "Ddsdm8revIqi"
      },
      "execution_count": 16,
      "outputs": []
    },
    {
      "cell_type": "code",
      "source": [
        "import gdown\n",
        "gdown.download('https://drive.google.com/uc?id=1jHl_LAXu26kndGpd2J5W-Xz0s5Pqkp6Q', quiet=False)\n"
      ],
      "metadata": {
        "colab": {
          "base_uri": "https://localhost:8080/",
          "height": 122
        },
        "id": "swqaBHjUu2_N",
        "outputId": "e8a815eb-4a30-4382-d7a6-cf8de385c749"
      },
      "execution_count": 17,
      "outputs": [
        {
          "output_type": "stream",
          "name": "stderr",
          "text": [
            "Downloading...\n",
            "From (original): https://drive.google.com/uc?id=1jHl_LAXu26kndGpd2J5W-Xz0s5Pqkp6Q\n",
            "From (redirected): https://drive.google.com/uc?id=1jHl_LAXu26kndGpd2J5W-Xz0s5Pqkp6Q&confirm=t&uuid=63491ba3-62c6-4e9b-83d7-5ccdbb4b5767\n",
            "To: /content/IBM Transactions for Anti Money Laundering.zip\n",
            "100%|██████████| 583M/583M [00:05<00:00, 114MB/s]\n"
          ]
        },
        {
          "output_type": "execute_result",
          "data": {
            "text/plain": [
              "'IBM Transactions for Anti Money Laundering.zip'"
            ],
            "application/vnd.google.colaboratory.intrinsic+json": {
              "type": "string"
            }
          },
          "metadata": {},
          "execution_count": 17
        }
      ]
    },
    {
      "cell_type": "code",
      "execution_count": 18,
      "metadata": {
        "id": "hrulTQtcztZm"
      },
      "outputs": [],
      "source": [
        "import zipfile\n",
        "\n",
        "# Path to the ZIP file\n",
        "zip_file_path = \"IBM Transactions for Anti Money Laundering.zip\"\n",
        "\n",
        "# Unzip the file\n",
        "with zipfile.ZipFile(zip_file_path, 'r') as zip_ref:\n",
        "    zip_ref.extractall()  # Extracts all files to the current directory\n"
      ]
    },
    {
      "cell_type": "code",
      "execution_count": 19,
      "metadata": {
        "id": "P7oHbOYzXcWu"
      },
      "outputs": [],
      "source": [
        "File_path='/content/IBM Transactions for Anti Money Laundering.csv'"
      ]
    },
    {
      "cell_type": "code",
      "execution_count": 20,
      "metadata": {
        "id": "Uttc1Fiy6H04",
        "colab": {
          "base_uri": "https://localhost:8080/"
        },
        "outputId": "f2752f87-4ff3-443d-f365-2418078696e2"
      },
      "outputs": [
        {
          "output_type": "stream",
          "name": "stdout",
          "text": [
            "The file size is 3031783420 bytes\n",
            "The file size is 2.82 GB\n"
          ]
        }
      ],
      "source": [
        "#Size of the file\n",
        "file_size=os.path.getsize(File_path)\n",
        "print(f\"The file size is {file_size} bytes\")\n",
        "\n",
        "# Convert size to GB\n",
        "file_size_gb = file_size / (1024**3)\n",
        "\n",
        "print(f\"The file size is {file_size_gb:.2f} GB\")"
      ]
    },
    {
      "cell_type": "markdown",
      "metadata": {
        "id": "bHyZCju6aR6C"
      },
      "source": [
        "# Read the file using Dask"
      ]
    },
    {
      "cell_type": "code",
      "execution_count": 21,
      "metadata": {
        "id": "uPh3YZ3Ba3-r",
        "colab": {
          "base_uri": "https://localhost:8080/"
        },
        "outputId": "c5af7e81-3f97-4016-92ea-b21bde2209f1"
      },
      "outputs": [
        {
          "output_type": "stream",
          "name": "stdout",
          "text": [
            "Requirement already satisfied: dask[dataframe] in /usr/local/lib/python3.10/dist-packages (2024.7.1)\n",
            "Requirement already satisfied: click>=8.1 in /usr/local/lib/python3.10/dist-packages (from dask[dataframe]) (8.1.7)\n",
            "Requirement already satisfied: cloudpickle>=1.5.0 in /usr/local/lib/python3.10/dist-packages (from dask[dataframe]) (2.2.1)\n",
            "Requirement already satisfied: fsspec>=2021.09.0 in /usr/local/lib/python3.10/dist-packages (from dask[dataframe]) (2024.6.1)\n",
            "Requirement already satisfied: packaging>=20.0 in /usr/local/lib/python3.10/dist-packages (from dask[dataframe]) (24.1)\n",
            "Requirement already satisfied: partd>=1.4.0 in /usr/local/lib/python3.10/dist-packages (from dask[dataframe]) (1.4.2)\n",
            "Requirement already satisfied: pyyaml>=5.3.1 in /usr/local/lib/python3.10/dist-packages (from dask[dataframe]) (6.0.2)\n",
            "Requirement already satisfied: toolz>=0.10.0 in /usr/local/lib/python3.10/dist-packages (from dask[dataframe]) (0.12.1)\n",
            "Requirement already satisfied: importlib-metadata>=4.13.0 in /usr/local/lib/python3.10/dist-packages (from dask[dataframe]) (8.5.0)\n",
            "Requirement already satisfied: pandas>=2.0 in /usr/local/lib/python3.10/dist-packages (from dask[dataframe]) (2.2.2)\n",
            "Requirement already satisfied: dask-expr<1.2,>=1.1 in /usr/local/lib/python3.10/dist-packages (from dask[dataframe]) (1.1.9)\n",
            "Requirement already satisfied: pyarrow>=7.0.0 in /usr/local/lib/python3.10/dist-packages (from dask-expr<1.2,>=1.1->dask[dataframe]) (14.0.2)\n",
            "Requirement already satisfied: zipp>=3.20 in /usr/local/lib/python3.10/dist-packages (from importlib-metadata>=4.13.0->dask[dataframe]) (3.20.1)\n",
            "Requirement already satisfied: numpy>=1.22.4 in /usr/local/lib/python3.10/dist-packages (from pandas>=2.0->dask[dataframe]) (1.26.4)\n",
            "Requirement already satisfied: python-dateutil>=2.8.2 in /usr/local/lib/python3.10/dist-packages (from pandas>=2.0->dask[dataframe]) (2.8.2)\n",
            "Requirement already satisfied: pytz>=2020.1 in /usr/local/lib/python3.10/dist-packages (from pandas>=2.0->dask[dataframe]) (2024.2)\n",
            "Requirement already satisfied: tzdata>=2022.7 in /usr/local/lib/python3.10/dist-packages (from pandas>=2.0->dask[dataframe]) (2024.1)\n",
            "Requirement already satisfied: locket in /usr/local/lib/python3.10/dist-packages (from partd>=1.4.0->dask[dataframe]) (1.0.0)\n",
            "Requirement already satisfied: six>=1.5 in /usr/local/lib/python3.10/dist-packages (from python-dateutil>=2.8.2->pandas>=2.0->dask[dataframe]) (1.16.0)\n"
          ]
        }
      ],
      "source": [
        "!pip install dask[dataframe]"
      ]
    },
    {
      "cell_type": "code",
      "execution_count": 26,
      "metadata": {
        "id": "H95IZhvx6a0X",
        "colab": {
          "base_uri": "https://localhost:8080/"
        },
        "outputId": "8d9aee41-c79d-4678-f847-40dda2e02f90"
      },
      "outputs": [
        {
          "output_type": "stream",
          "name": "stdout",
          "text": [
            "Read csv with dask:  0.0005664825439453125 sec\n"
          ]
        }
      ],
      "source": [
        "from dask import dataframe as dd\n",
        "start = time.time()\n",
        "dask_df = dd.read_csv('/content/IBM Transactions for Anti Money Laundering.csv')\n",
        "end = time.time()\n",
        "print(\"Read csv with dask: \",(end-start),\"sec\")"
      ]
    },
    {
      "cell_type": "markdown",
      "metadata": {
        "id": "JhDf7wxSbF9c"
      },
      "source": [
        "# Read the file using Pandas"
      ]
    },
    {
      "cell_type": "code",
      "execution_count": 36,
      "metadata": {
        "id": "-mAxL4My6WFs",
        "colab": {
          "base_uri": "https://localhost:8080/"
        },
        "outputId": "c937f6c5-068e-4807-af3f-c02242ae9de1"
      },
      "outputs": [
        {
          "output_type": "stream",
          "name": "stdout",
          "text": [
            "Read csv with pandas:  108.39546656608582 sec\n",
            "File shape: (31898238, 11)\n"
          ]
        }
      ],
      "source": [
        "import pandas as pd\n",
        "import time\n",
        "start = time.time()\n",
        "pandas_df = pd.read_csv('/content/IBM Transactions for Anti Money Laundering.csv')\n",
        "end = time.time()\n",
        "print(\"Read csv with pandas: \",(end-start),\"sec\")\n",
        "print(f\"File shape: {pandas_df.shape}\")"
      ]
    },
    {
      "cell_type": "markdown",
      "metadata": {
        "id": "MNac__ksc37N"
      },
      "source": [
        "# Read the file using Ray"
      ]
    },
    {
      "cell_type": "code",
      "execution_count": 37,
      "metadata": {
        "id": "MlJkqZhSrRwn",
        "colab": {
          "base_uri": "https://localhost:8080/"
        },
        "outputId": "aff7e1d6-d86a-422a-ef46-7f4b2b9a4ee3"
      },
      "outputs": [
        {
          "output_type": "stream",
          "name": "stdout",
          "text": [
            "Collecting ray\n",
            "  Downloading ray-2.35.0-cp310-cp310-manylinux2014_x86_64.whl.metadata (16 kB)\n",
            "Collecting Modin[ray]\n",
            "  Downloading modin-0.32.0-py3-none-any.whl.metadata (17 kB)\n",
            "Collecting pandas<2.3,>=2.2 (from Modin[ray])\n",
            "  Downloading pandas-2.2.2-cp310-cp310-manylinux_2_17_x86_64.manylinux2014_x86_64.whl.metadata (19 kB)\n",
            "Requirement already satisfied: packaging>=21.0 in /usr/local/lib/python3.10/dist-packages (from Modin[ray]) (24.1)\n",
            "Requirement already satisfied: numpy>=1.22.4 in /usr/local/lib/python3.10/dist-packages (from Modin[ray]) (1.26.4)\n",
            "Requirement already satisfied: fsspec>=2022.11.0 in /usr/local/lib/python3.10/dist-packages (from Modin[ray]) (2024.6.1)\n",
            "Requirement already satisfied: psutil>=5.8.0 in /usr/local/lib/python3.10/dist-packages (from Modin[ray]) (5.9.5)\n",
            "Requirement already satisfied: pyarrow>=10.0.1 in /usr/local/lib/python3.10/dist-packages (from Modin[ray]) (14.0.2)\n",
            "Requirement already satisfied: click>=7.0 in /usr/local/lib/python3.10/dist-packages (from ray) (8.1.7)\n",
            "Requirement already satisfied: filelock in /usr/local/lib/python3.10/dist-packages (from ray) (3.16.0)\n",
            "Requirement already satisfied: jsonschema in /usr/local/lib/python3.10/dist-packages (from ray) (4.23.0)\n",
            "Requirement already satisfied: msgpack<2.0.0,>=1.0.0 in /usr/local/lib/python3.10/dist-packages (from ray) (1.0.8)\n",
            "Requirement already satisfied: protobuf!=3.19.5,>=3.15.3 in /usr/local/lib/python3.10/dist-packages (from ray) (3.20.3)\n",
            "Requirement already satisfied: pyyaml in /usr/local/lib/python3.10/dist-packages (from ray) (6.0.2)\n",
            "Requirement already satisfied: aiosignal in /usr/local/lib/python3.10/dist-packages (from ray) (1.3.1)\n",
            "Requirement already satisfied: frozenlist in /usr/local/lib/python3.10/dist-packages (from ray) (1.4.1)\n",
            "Requirement already satisfied: requests in /usr/local/lib/python3.10/dist-packages (from ray) (2.32.3)\n",
            "Requirement already satisfied: python-dateutil>=2.8.2 in /usr/local/lib/python3.10/dist-packages (from pandas<2.3,>=2.2->Modin[ray]) (2.8.2)\n",
            "Requirement already satisfied: pytz>=2020.1 in /usr/local/lib/python3.10/dist-packages (from pandas<2.3,>=2.2->Modin[ray]) (2024.2)\n",
            "Requirement already satisfied: tzdata>=2022.7 in /usr/local/lib/python3.10/dist-packages (from pandas<2.3,>=2.2->Modin[ray]) (2024.1)\n",
            "Requirement already satisfied: attrs>=22.2.0 in /usr/local/lib/python3.10/dist-packages (from jsonschema->ray) (24.2.0)\n",
            "Requirement already satisfied: jsonschema-specifications>=2023.03.6 in /usr/local/lib/python3.10/dist-packages (from jsonschema->ray) (2023.12.1)\n",
            "Requirement already satisfied: referencing>=0.28.4 in /usr/local/lib/python3.10/dist-packages (from jsonschema->ray) (0.35.1)\n",
            "Requirement already satisfied: rpds-py>=0.7.1 in /usr/local/lib/python3.10/dist-packages (from jsonschema->ray) (0.20.0)\n",
            "Requirement already satisfied: charset-normalizer<4,>=2 in /usr/local/lib/python3.10/dist-packages (from requests->ray) (3.3.2)\n",
            "Requirement already satisfied: idna<4,>=2.5 in /usr/local/lib/python3.10/dist-packages (from requests->ray) (3.8)\n",
            "Requirement already satisfied: urllib3<3,>=1.21.1 in /usr/local/lib/python3.10/dist-packages (from requests->ray) (2.0.7)\n",
            "Requirement already satisfied: certifi>=2017.4.17 in /usr/local/lib/python3.10/dist-packages (from requests->ray) (2024.8.30)\n",
            "Requirement already satisfied: six>=1.5 in /usr/local/lib/python3.10/dist-packages (from python-dateutil>=2.8.2->pandas<2.3,>=2.2->Modin[ray]) (1.16.0)\n",
            "Downloading ray-2.35.0-cp310-cp310-manylinux2014_x86_64.whl (65.0 MB)\n",
            "\u001b[2K   \u001b[90m━━━━━━━━━━━━━━━━━━━━━━━━━━━━━━━━━━━━━━━━\u001b[0m \u001b[32m65.0/65.0 MB\u001b[0m \u001b[31m11.3 MB/s\u001b[0m eta \u001b[36m0:00:00\u001b[0m\n",
            "\u001b[?25hDownloading pandas-2.2.2-cp310-cp310-manylinux_2_17_x86_64.manylinux2014_x86_64.whl (13.0 MB)\n",
            "\u001b[2K   \u001b[90m━━━━━━━━━━━━━━━━━━━━━━━━━━━━━━━━━━━━━━━━\u001b[0m \u001b[32m13.0/13.0 MB\u001b[0m \u001b[31m61.9 MB/s\u001b[0m eta \u001b[36m0:00:00\u001b[0m\n",
            "\u001b[?25hDownloading modin-0.32.0-py3-none-any.whl (1.1 MB)\n",
            "\u001b[2K   \u001b[90m━━━━━━━━━━━━━━━━━━━━━━━━━━━━━━━━━━━━━━━━\u001b[0m \u001b[32m1.1/1.1 MB\u001b[0m \u001b[31m38.9 MB/s\u001b[0m eta \u001b[36m0:00:00\u001b[0m\n",
            "\u001b[?25hInstalling collected packages: pandas, Modin, ray\n",
            "  Attempting uninstall: pandas\n",
            "    Found existing installation: pandas 2.1.4\n",
            "    Uninstalling pandas-2.1.4:\n",
            "      Successfully uninstalled pandas-2.1.4\n",
            "\u001b[31mERROR: pip's dependency resolver does not currently take into account all the packages that are installed. This behaviour is the source of the following dependency conflicts.\n",
            "cudf-cu12 24.4.1 requires pandas<2.2.2dev0,>=2.0, but you have pandas 2.2.2 which is incompatible.\n",
            "google-colab 1.0.0 requires pandas==2.1.4, but you have pandas 2.2.2 which is incompatible.\u001b[0m\u001b[31m\n",
            "\u001b[0mSuccessfully installed Modin-0.32.0 pandas-2.2.2 ray-2.35.0\n"
          ]
        }
      ],
      "source": [
        "!pip install Modin[ray] ray"
      ]
    },
    {
      "cell_type": "code",
      "execution_count": 38,
      "metadata": {
        "id": "GlpolpSUrJDT",
        "colab": {
          "base_uri": "https://localhost:8080/"
        },
        "outputId": "3a34711a-e41a-4a00-f6f4-f9b5ca5d69bc"
      },
      "outputs": [
        {
          "output_type": "stream",
          "name": "stderr",
          "text": [
            "2024-09-16 12:19:41,978\tINFO worker.py:1783 -- Started a local Ray instance.\n"
          ]
        },
        {
          "output_type": "stream",
          "name": "stdout",
          "text": [
            "Read CSV with Ray Data: 7.36477518081665 sec\n"
          ]
        }
      ],
      "source": [
        "import ray\n",
        "import time\n",
        "\n",
        "# Initialize Ray\n",
        "ray.init(ignore_reinit_error=True)\n",
        "\n",
        "# Measure time to read CSV using Ray Data\n",
        "start = time.time()\n",
        "ray_df = ray.data.read_csv('/content/IBM Transactions for Anti Money Laundering.csv')\n",
        "end = time.time()\n",
        "\n",
        "print(\"Read CSV with Ray Data:\", (end - start), \"sec\")\n"
      ]
    },
    {
      "cell_type": "markdown",
      "metadata": {
        "id": "NMhR6e_jwQW8"
      },
      "source": [
        "# Read the file using Modin with Ray"
      ]
    },
    {
      "cell_type": "code",
      "execution_count": 39,
      "metadata": {
        "id": "4ibVAhd_gtsg",
        "colab": {
          "base_uri": "https://localhost:8080/"
        },
        "outputId": "5170b66a-f0b8-4076-9ee2-b39ee84133a2"
      },
      "outputs": [
        {
          "output_type": "stream",
          "name": "stdout",
          "text": [
            "Requirement already satisfied: pandas==2.2.2 in /usr/local/lib/python3.10/dist-packages (2.2.2)\n",
            "Requirement already satisfied: numpy>=1.22.4 in /usr/local/lib/python3.10/dist-packages (from pandas==2.2.2) (1.26.4)\n",
            "Requirement already satisfied: python-dateutil>=2.8.2 in /usr/local/lib/python3.10/dist-packages (from pandas==2.2.2) (2.8.2)\n",
            "Requirement already satisfied: pytz>=2020.1 in /usr/local/lib/python3.10/dist-packages (from pandas==2.2.2) (2024.2)\n",
            "Requirement already satisfied: tzdata>=2022.7 in /usr/local/lib/python3.10/dist-packages (from pandas==2.2.2) (2024.1)\n",
            "Requirement already satisfied: six>=1.5 in /usr/local/lib/python3.10/dist-packages (from python-dateutil>=2.8.2->pandas==2.2.2) (1.16.0)\n"
          ]
        }
      ],
      "source": [
        "!pip install pandas==2.2.2"
      ]
    },
    {
      "cell_type": "code",
      "execution_count": 1,
      "metadata": {
        "id": "dWnKtk8_gkI8",
        "colab": {
          "base_uri": "https://localhost:8080/"
        },
        "outputId": "2aef8949-2b44-4e3a-953a-be4e4f07810c"
      },
      "outputs": [
        {
          "output_type": "stream",
          "name": "stderr",
          "text": [
            "UserWarning: The size of /dev/shm is too small (6133108736 bytes). The required size at least half of RAM (6804715520 bytes). Please, delete files in /dev/shm or increase size of /dev/shm with --shm-size in Docker. Also, you can can override the memory size for each Ray worker (in bytes) to the MODIN_MEMORY environment variable.\n",
            "2024-09-16 12:23:35,320\tINFO worker.py:1783 -- Started a local Ray instance.\n"
          ]
        },
        {
          "output_type": "stream",
          "name": "stdout",
          "text": [
            "Read CSV with Modin (Ray): 21.758262157440186 sec\n"
          ]
        }
      ],
      "source": [
        "import modin.pandas as mpd\n",
        "import ray\n",
        "import time\n",
        "\n",
        "# Initialize Ray\n",
        "#ray.init(ignore_reinit_error=True) #Already Initialised\n",
        "\n",
        "# Measure time to read CSV using Modin with Ray\n",
        "start = time.time()\n",
        "modin_df = mpd.read_csv('/content/IBM Transactions for Anti Money Laundering.csv', nrows=1000000)\n",
        "end = time.time()\n",
        "\n",
        "print(\"Read CSV with Modin (Ray):\", (end - start), \"sec\")\n"
      ]
    },
    {
      "cell_type": "markdown",
      "metadata": {
        "id": "Bde3yUf968fz"
      },
      "source": [
        "**Summary**\n",
        "\n",
        "Here Dask is better than Pandas, Ray, Modin[Ray]"
      ]
    },
    {
      "cell_type": "markdown",
      "metadata": {
        "id": "gc2vw_e2GD1q"
      },
      "source": [
        "# Exploration"
      ]
    },
    {
      "cell_type": "code",
      "execution_count": 3,
      "metadata": {
        "id": "Dw1r35DIlm4s"
      },
      "outputs": [],
      "source": [
        "from dask import dataframe as dd\n",
        "dask_df = dd.read_csv('/content/IBM Transactions for Anti Money Laundering.csv')"
      ]
    },
    {
      "cell_type": "code",
      "execution_count": 4,
      "metadata": {
        "id": "Y1izbV5vgO17",
        "colab": {
          "base_uri": "https://localhost:8080/",
          "height": 206
        },
        "outputId": "bb6c97ec-8ec6-4b3e-de78-5d3dfec13dbe"
      },
      "outputs": [
        {
          "output_type": "execute_result",
          "data": {
            "text/plain": [
              "          Timestamp  From Bank    Account  To Bank  Account.1  \\\n",
              "0  2022/09/01 00:17         20  800104D70       20  800104D70   \n",
              "1  2022/09/01 00:02       3196  800107150     3196  800107150   \n",
              "2  2022/09/01 00:17       1208  80010E430     1208  80010E430   \n",
              "3  2022/09/01 00:03       1208  80010E650       20  80010E6F0   \n",
              "4  2022/09/01 00:02       1208  80010E650       20  80010EA30   \n",
              "\n",
              "   Amount Received Receiving Currency  Amount Paid Payment Currency  \\\n",
              "0          6794.63          US Dollar      6794.63        US Dollar   \n",
              "1          7739.29          US Dollar      7739.29        US Dollar   \n",
              "2          1880.23          US Dollar      1880.23        US Dollar   \n",
              "3      73966883.00          US Dollar  73966883.00        US Dollar   \n",
              "4      45868454.00          US Dollar  45868454.00        US Dollar   \n",
              "\n",
              "  Payment Format  Is Laundering  \n",
              "0   Reinvestment              0  \n",
              "1   Reinvestment              0  \n",
              "2   Reinvestment              0  \n",
              "3         Cheque              0  \n",
              "4         Cheque              0  "
            ],
            "text/html": [
              "\n",
              "  <div id=\"df-9f0d63c3-5888-49a7-a11a-bc349e1811e4\" class=\"colab-df-container\">\n",
              "    <div>\n",
              "<style scoped>\n",
              "    .dataframe tbody tr th:only-of-type {\n",
              "        vertical-align: middle;\n",
              "    }\n",
              "\n",
              "    .dataframe tbody tr th {\n",
              "        vertical-align: top;\n",
              "    }\n",
              "\n",
              "    .dataframe thead th {\n",
              "        text-align: right;\n",
              "    }\n",
              "</style>\n",
              "<table border=\"1\" class=\"dataframe\">\n",
              "  <thead>\n",
              "    <tr style=\"text-align: right;\">\n",
              "      <th></th>\n",
              "      <th>Timestamp</th>\n",
              "      <th>From Bank</th>\n",
              "      <th>Account</th>\n",
              "      <th>To Bank</th>\n",
              "      <th>Account.1</th>\n",
              "      <th>Amount Received</th>\n",
              "      <th>Receiving Currency</th>\n",
              "      <th>Amount Paid</th>\n",
              "      <th>Payment Currency</th>\n",
              "      <th>Payment Format</th>\n",
              "      <th>Is Laundering</th>\n",
              "    </tr>\n",
              "  </thead>\n",
              "  <tbody>\n",
              "    <tr>\n",
              "      <th>0</th>\n",
              "      <td>2022/09/01 00:17</td>\n",
              "      <td>20</td>\n",
              "      <td>800104D70</td>\n",
              "      <td>20</td>\n",
              "      <td>800104D70</td>\n",
              "      <td>6794.63</td>\n",
              "      <td>US Dollar</td>\n",
              "      <td>6794.63</td>\n",
              "      <td>US Dollar</td>\n",
              "      <td>Reinvestment</td>\n",
              "      <td>0</td>\n",
              "    </tr>\n",
              "    <tr>\n",
              "      <th>1</th>\n",
              "      <td>2022/09/01 00:02</td>\n",
              "      <td>3196</td>\n",
              "      <td>800107150</td>\n",
              "      <td>3196</td>\n",
              "      <td>800107150</td>\n",
              "      <td>7739.29</td>\n",
              "      <td>US Dollar</td>\n",
              "      <td>7739.29</td>\n",
              "      <td>US Dollar</td>\n",
              "      <td>Reinvestment</td>\n",
              "      <td>0</td>\n",
              "    </tr>\n",
              "    <tr>\n",
              "      <th>2</th>\n",
              "      <td>2022/09/01 00:17</td>\n",
              "      <td>1208</td>\n",
              "      <td>80010E430</td>\n",
              "      <td>1208</td>\n",
              "      <td>80010E430</td>\n",
              "      <td>1880.23</td>\n",
              "      <td>US Dollar</td>\n",
              "      <td>1880.23</td>\n",
              "      <td>US Dollar</td>\n",
              "      <td>Reinvestment</td>\n",
              "      <td>0</td>\n",
              "    </tr>\n",
              "    <tr>\n",
              "      <th>3</th>\n",
              "      <td>2022/09/01 00:03</td>\n",
              "      <td>1208</td>\n",
              "      <td>80010E650</td>\n",
              "      <td>20</td>\n",
              "      <td>80010E6F0</td>\n",
              "      <td>73966883.00</td>\n",
              "      <td>US Dollar</td>\n",
              "      <td>73966883.00</td>\n",
              "      <td>US Dollar</td>\n",
              "      <td>Cheque</td>\n",
              "      <td>0</td>\n",
              "    </tr>\n",
              "    <tr>\n",
              "      <th>4</th>\n",
              "      <td>2022/09/01 00:02</td>\n",
              "      <td>1208</td>\n",
              "      <td>80010E650</td>\n",
              "      <td>20</td>\n",
              "      <td>80010EA30</td>\n",
              "      <td>45868454.00</td>\n",
              "      <td>US Dollar</td>\n",
              "      <td>45868454.00</td>\n",
              "      <td>US Dollar</td>\n",
              "      <td>Cheque</td>\n",
              "      <td>0</td>\n",
              "    </tr>\n",
              "  </tbody>\n",
              "</table>\n",
              "</div>\n",
              "    <div class=\"colab-df-buttons\">\n",
              "\n",
              "  <div class=\"colab-df-container\">\n",
              "    <button class=\"colab-df-convert\" onclick=\"convertToInteractive('df-9f0d63c3-5888-49a7-a11a-bc349e1811e4')\"\n",
              "            title=\"Convert this dataframe to an interactive table.\"\n",
              "            style=\"display:none;\">\n",
              "\n",
              "  <svg xmlns=\"http://www.w3.org/2000/svg\" height=\"24px\" viewBox=\"0 -960 960 960\">\n",
              "    <path d=\"M120-120v-720h720v720H120Zm60-500h600v-160H180v160Zm220 220h160v-160H400v160Zm0 220h160v-160H400v160ZM180-400h160v-160H180v160Zm440 0h160v-160H620v160ZM180-180h160v-160H180v160Zm440 0h160v-160H620v160Z\"/>\n",
              "  </svg>\n",
              "    </button>\n",
              "\n",
              "  <style>\n",
              "    .colab-df-container {\n",
              "      display:flex;\n",
              "      gap: 12px;\n",
              "    }\n",
              "\n",
              "    .colab-df-convert {\n",
              "      background-color: #E8F0FE;\n",
              "      border: none;\n",
              "      border-radius: 50%;\n",
              "      cursor: pointer;\n",
              "      display: none;\n",
              "      fill: #1967D2;\n",
              "      height: 32px;\n",
              "      padding: 0 0 0 0;\n",
              "      width: 32px;\n",
              "    }\n",
              "\n",
              "    .colab-df-convert:hover {\n",
              "      background-color: #E2EBFA;\n",
              "      box-shadow: 0px 1px 2px rgba(60, 64, 67, 0.3), 0px 1px 3px 1px rgba(60, 64, 67, 0.15);\n",
              "      fill: #174EA6;\n",
              "    }\n",
              "\n",
              "    .colab-df-buttons div {\n",
              "      margin-bottom: 4px;\n",
              "    }\n",
              "\n",
              "    [theme=dark] .colab-df-convert {\n",
              "      background-color: #3B4455;\n",
              "      fill: #D2E3FC;\n",
              "    }\n",
              "\n",
              "    [theme=dark] .colab-df-convert:hover {\n",
              "      background-color: #434B5C;\n",
              "      box-shadow: 0px 1px 3px 1px rgba(0, 0, 0, 0.15);\n",
              "      filter: drop-shadow(0px 1px 2px rgba(0, 0, 0, 0.3));\n",
              "      fill: #FFFFFF;\n",
              "    }\n",
              "  </style>\n",
              "\n",
              "    <script>\n",
              "      const buttonEl =\n",
              "        document.querySelector('#df-9f0d63c3-5888-49a7-a11a-bc349e1811e4 button.colab-df-convert');\n",
              "      buttonEl.style.display =\n",
              "        google.colab.kernel.accessAllowed ? 'block' : 'none';\n",
              "\n",
              "      async function convertToInteractive(key) {\n",
              "        const element = document.querySelector('#df-9f0d63c3-5888-49a7-a11a-bc349e1811e4');\n",
              "        const dataTable =\n",
              "          await google.colab.kernel.invokeFunction('convertToInteractive',\n",
              "                                                    [key], {});\n",
              "        if (!dataTable) return;\n",
              "\n",
              "        const docLinkHtml = 'Like what you see? Visit the ' +\n",
              "          '<a target=\"_blank\" href=https://colab.research.google.com/notebooks/data_table.ipynb>data table notebook</a>'\n",
              "          + ' to learn more about interactive tables.';\n",
              "        element.innerHTML = '';\n",
              "        dataTable['output_type'] = 'display_data';\n",
              "        await google.colab.output.renderOutput(dataTable, element);\n",
              "        const docLink = document.createElement('div');\n",
              "        docLink.innerHTML = docLinkHtml;\n",
              "        element.appendChild(docLink);\n",
              "      }\n",
              "    </script>\n",
              "  </div>\n",
              "\n",
              "\n",
              "<div id=\"df-b1bb8492-6d3a-4113-837e-d2c1430386fb\">\n",
              "  <button class=\"colab-df-quickchart\" onclick=\"quickchart('df-b1bb8492-6d3a-4113-837e-d2c1430386fb')\"\n",
              "            title=\"Suggest charts\"\n",
              "            style=\"display:none;\">\n",
              "\n",
              "<svg xmlns=\"http://www.w3.org/2000/svg\" height=\"24px\"viewBox=\"0 0 24 24\"\n",
              "     width=\"24px\">\n",
              "    <g>\n",
              "        <path d=\"M19 3H5c-1.1 0-2 .9-2 2v14c0 1.1.9 2 2 2h14c1.1 0 2-.9 2-2V5c0-1.1-.9-2-2-2zM9 17H7v-7h2v7zm4 0h-2V7h2v10zm4 0h-2v-4h2v4z\"/>\n",
              "    </g>\n",
              "</svg>\n",
              "  </button>\n",
              "\n",
              "<style>\n",
              "  .colab-df-quickchart {\n",
              "      --bg-color: #E8F0FE;\n",
              "      --fill-color: #1967D2;\n",
              "      --hover-bg-color: #E2EBFA;\n",
              "      --hover-fill-color: #174EA6;\n",
              "      --disabled-fill-color: #AAA;\n",
              "      --disabled-bg-color: #DDD;\n",
              "  }\n",
              "\n",
              "  [theme=dark] .colab-df-quickchart {\n",
              "      --bg-color: #3B4455;\n",
              "      --fill-color: #D2E3FC;\n",
              "      --hover-bg-color: #434B5C;\n",
              "      --hover-fill-color: #FFFFFF;\n",
              "      --disabled-bg-color: #3B4455;\n",
              "      --disabled-fill-color: #666;\n",
              "  }\n",
              "\n",
              "  .colab-df-quickchart {\n",
              "    background-color: var(--bg-color);\n",
              "    border: none;\n",
              "    border-radius: 50%;\n",
              "    cursor: pointer;\n",
              "    display: none;\n",
              "    fill: var(--fill-color);\n",
              "    height: 32px;\n",
              "    padding: 0;\n",
              "    width: 32px;\n",
              "  }\n",
              "\n",
              "  .colab-df-quickchart:hover {\n",
              "    background-color: var(--hover-bg-color);\n",
              "    box-shadow: 0 1px 2px rgba(60, 64, 67, 0.3), 0 1px 3px 1px rgba(60, 64, 67, 0.15);\n",
              "    fill: var(--button-hover-fill-color);\n",
              "  }\n",
              "\n",
              "  .colab-df-quickchart-complete:disabled,\n",
              "  .colab-df-quickchart-complete:disabled:hover {\n",
              "    background-color: var(--disabled-bg-color);\n",
              "    fill: var(--disabled-fill-color);\n",
              "    box-shadow: none;\n",
              "  }\n",
              "\n",
              "  .colab-df-spinner {\n",
              "    border: 2px solid var(--fill-color);\n",
              "    border-color: transparent;\n",
              "    border-bottom-color: var(--fill-color);\n",
              "    animation:\n",
              "      spin 1s steps(1) infinite;\n",
              "  }\n",
              "\n",
              "  @keyframes spin {\n",
              "    0% {\n",
              "      border-color: transparent;\n",
              "      border-bottom-color: var(--fill-color);\n",
              "      border-left-color: var(--fill-color);\n",
              "    }\n",
              "    20% {\n",
              "      border-color: transparent;\n",
              "      border-left-color: var(--fill-color);\n",
              "      border-top-color: var(--fill-color);\n",
              "    }\n",
              "    30% {\n",
              "      border-color: transparent;\n",
              "      border-left-color: var(--fill-color);\n",
              "      border-top-color: var(--fill-color);\n",
              "      border-right-color: var(--fill-color);\n",
              "    }\n",
              "    40% {\n",
              "      border-color: transparent;\n",
              "      border-right-color: var(--fill-color);\n",
              "      border-top-color: var(--fill-color);\n",
              "    }\n",
              "    60% {\n",
              "      border-color: transparent;\n",
              "      border-right-color: var(--fill-color);\n",
              "    }\n",
              "    80% {\n",
              "      border-color: transparent;\n",
              "      border-right-color: var(--fill-color);\n",
              "      border-bottom-color: var(--fill-color);\n",
              "    }\n",
              "    90% {\n",
              "      border-color: transparent;\n",
              "      border-bottom-color: var(--fill-color);\n",
              "    }\n",
              "  }\n",
              "</style>\n",
              "\n",
              "  <script>\n",
              "    async function quickchart(key) {\n",
              "      const quickchartButtonEl =\n",
              "        document.querySelector('#' + key + ' button');\n",
              "      quickchartButtonEl.disabled = true;  // To prevent multiple clicks.\n",
              "      quickchartButtonEl.classList.add('colab-df-spinner');\n",
              "      try {\n",
              "        const charts = await google.colab.kernel.invokeFunction(\n",
              "            'suggestCharts', [key], {});\n",
              "      } catch (error) {\n",
              "        console.error('Error during call to suggestCharts:', error);\n",
              "      }\n",
              "      quickchartButtonEl.classList.remove('colab-df-spinner');\n",
              "      quickchartButtonEl.classList.add('colab-df-quickchart-complete');\n",
              "    }\n",
              "    (() => {\n",
              "      let quickchartButtonEl =\n",
              "        document.querySelector('#df-b1bb8492-6d3a-4113-837e-d2c1430386fb button');\n",
              "      quickchartButtonEl.style.display =\n",
              "        google.colab.kernel.accessAllowed ? 'block' : 'none';\n",
              "    })();\n",
              "  </script>\n",
              "</div>\n",
              "\n",
              "    </div>\n",
              "  </div>\n"
            ],
            "application/vnd.google.colaboratory.intrinsic+json": {
              "type": "dataframe",
              "summary": "{\n  \"name\": \"dask_df\",\n  \"rows\": 5,\n  \"fields\": [\n    {\n      \"column\": \"Timestamp\",\n      \"properties\": {\n        \"dtype\": \"object\",\n        \"num_unique_values\": 3,\n        \"samples\": [\n          \"2022/09/01 00:17\",\n          \"2022/09/01 00:02\",\n          \"2022/09/01 00:03\"\n        ],\n        \"semantic_type\": \"\",\n        \"description\": \"\"\n      }\n    },\n    {\n      \"column\": \"From Bank\",\n      \"properties\": {\n        \"dtype\": \"number\",\n        \"std\": 1144,\n        \"min\": 20,\n        \"max\": 3196,\n        \"num_unique_values\": 3,\n        \"samples\": [\n          20,\n          3196,\n          1208\n        ],\n        \"semantic_type\": \"\",\n        \"description\": \"\"\n      }\n    },\n    {\n      \"column\": \"Account\",\n      \"properties\": {\n        \"dtype\": \"string\",\n        \"num_unique_values\": 4,\n        \"samples\": [\n          \"800107150\",\n          \"80010E650\",\n          \"800104D70\"\n        ],\n        \"semantic_type\": \"\",\n        \"description\": \"\"\n      }\n    },\n    {\n      \"column\": \"To Bank\",\n      \"properties\": {\n        \"dtype\": \"number\",\n        \"std\": 1386,\n        \"min\": 20,\n        \"max\": 3196,\n        \"num_unique_values\": 3,\n        \"samples\": [\n          20,\n          3196,\n          1208\n        ],\n        \"semantic_type\": \"\",\n        \"description\": \"\"\n      }\n    },\n    {\n      \"column\": \"Account.1\",\n      \"properties\": {\n        \"dtype\": \"string\",\n        \"num_unique_values\": 5,\n        \"samples\": [\n          \"800107150\",\n          \"80010EA30\",\n          \"80010E430\"\n        ],\n        \"semantic_type\": \"\",\n        \"description\": \"\"\n      }\n    },\n    {\n      \"column\": \"Amount Received\",\n      \"properties\": {\n        \"dtype\": \"number\",\n        \"std\": 34286026.71621623,\n        \"min\": 1880.23,\n        \"max\": 73966883.0,\n        \"num_unique_values\": 5,\n        \"samples\": [\n          7739.29,\n          45868454.0,\n          1880.23\n        ],\n        \"semantic_type\": \"\",\n        \"description\": \"\"\n      }\n    },\n    {\n      \"column\": \"Receiving Currency\",\n      \"properties\": {\n        \"dtype\": \"category\",\n        \"num_unique_values\": 1,\n        \"samples\": [\n          \"US Dollar\"\n        ],\n        \"semantic_type\": \"\",\n        \"description\": \"\"\n      }\n    },\n    {\n      \"column\": \"Amount Paid\",\n      \"properties\": {\n        \"dtype\": \"number\",\n        \"std\": 34286026.71621623,\n        \"min\": 1880.23,\n        \"max\": 73966883.0,\n        \"num_unique_values\": 5,\n        \"samples\": [\n          7739.29\n        ],\n        \"semantic_type\": \"\",\n        \"description\": \"\"\n      }\n    },\n    {\n      \"column\": \"Payment Currency\",\n      \"properties\": {\n        \"dtype\": \"category\",\n        \"num_unique_values\": 1,\n        \"samples\": [\n          \"US Dollar\"\n        ],\n        \"semantic_type\": \"\",\n        \"description\": \"\"\n      }\n    },\n    {\n      \"column\": \"Payment Format\",\n      \"properties\": {\n        \"dtype\": \"category\",\n        \"num_unique_values\": 2,\n        \"samples\": [\n          \"Cheque\"\n        ],\n        \"semantic_type\": \"\",\n        \"description\": \"\"\n      }\n    },\n    {\n      \"column\": \"Is Laundering\",\n      \"properties\": {\n        \"dtype\": \"number\",\n        \"std\": 0,\n        \"min\": 0,\n        \"max\": 0,\n        \"num_unique_values\": 1,\n        \"samples\": [\n          0\n        ],\n        \"semantic_type\": \"\",\n        \"description\": \"\"\n      }\n    }\n  ]\n}"
            }
          },
          "metadata": {},
          "execution_count": 4
        }
      ],
      "source": [
        "dask_df.head()"
      ]
    },
    {
      "cell_type": "code",
      "execution_count": 5,
      "metadata": {
        "id": "ogtOFaZg7E2m",
        "colab": {
          "base_uri": "https://localhost:8080/"
        },
        "outputId": "e67107ce-c1b8-4613-e22e-98f04cd855f9"
      },
      "outputs": [
        {
          "output_type": "stream",
          "name": "stdout",
          "text": [
            "<class 'dask_expr.DataFrame'>\n",
            "Columns: 11 entries, Timestamp to Is Laundering\n",
            "dtypes: float64(2), int64(3), string(6)"
          ]
        }
      ],
      "source": [
        "dask_df.info()"
      ]
    },
    {
      "cell_type": "code",
      "execution_count": 6,
      "metadata": {
        "id": "CEKVAZQOYNbf",
        "colab": {
          "base_uri": "https://localhost:8080/"
        },
        "outputId": "9d495d9b-287f-4590-ad7f-e4ba0824b995"
      },
      "outputs": [
        {
          "output_type": "execute_result",
          "data": {
            "text/plain": [
              "31898238"
            ]
          },
          "metadata": {},
          "execution_count": 6
        }
      ],
      "source": [
        "len(dask_df.index)"
      ]
    },
    {
      "cell_type": "code",
      "execution_count": 7,
      "metadata": {
        "id": "PVsbnxze7IWI",
        "colab": {
          "base_uri": "https://localhost:8080/"
        },
        "outputId": "fb2c93cb-79c9-4f39-908c-09059a1dc03e"
      },
      "outputs": [
        {
          "output_type": "execute_result",
          "data": {
            "text/plain": [
              "11"
            ]
          },
          "metadata": {},
          "execution_count": 7
        }
      ],
      "source": [
        "#No, of Columns\n",
        "len(dask_df.columns)"
      ]
    },
    {
      "cell_type": "code",
      "execution_count": 8,
      "metadata": {
        "id": "bNaNvI3OZCIM",
        "colab": {
          "base_uri": "https://localhost:8080/"
        },
        "outputId": "c257331d-dd06-4d73-b68f-cc311af22dc6"
      },
      "outputs": [
        {
          "output_type": "execute_result",
          "data": {
            "text/plain": [
              "Index(['Timestamp', 'From Bank', 'Account', 'To Bank', 'Account.1',\n",
              "       'Amount Received', 'Receiving Currency', 'Amount Paid',\n",
              "       'Payment Currency', 'Payment Format', 'Is Laundering'],\n",
              "      dtype='object')"
            ]
          },
          "metadata": {},
          "execution_count": 8
        }
      ],
      "source": [
        "dask_df.columns"
      ]
    },
    {
      "cell_type": "code",
      "execution_count": 9,
      "metadata": {
        "id": "bqmsvIl_cdxj"
      },
      "outputs": [],
      "source": [
        "# Clean the column names in the Dask DataFrame\n",
        "dask_df.columns = dask_df.columns.str.lower()  #Make all column names lowercase for consistency\n",
        "dask_df.columns = dask_df.columns.str.replace(r'[^\\w\\s]', '', regex=True)  # Remove special characters like \".\"\n",
        "dask_df.columns = dask_df.columns.str.replace(' ', '_')  # Replace spaces with underscores\n",
        "dask_df.columns = dask_df.columns.str.strip('_')  # Remove leading/trailing whitespaces\n",
        "dask_df.columns = list(map(lambda x: x.strip(), list(dask_df.columns)))  #Remove leading/trailing whitespaces\n",
        "\n"
      ]
    },
    {
      "cell_type": "code",
      "execution_count": 10,
      "metadata": {
        "id": "n1sPLXhmcUnG",
        "colab": {
          "base_uri": "https://localhost:8080/"
        },
        "outputId": "5e41bbfc-b918-46f5-c7f2-e419b0be039d"
      },
      "outputs": [
        {
          "output_type": "execute_result",
          "data": {
            "text/plain": [
              "Index(['timestamp', 'from_bank', 'account', 'to_bank', 'account1',\n",
              "       'amount_received', 'receiving_currency', 'amount_paid',\n",
              "       'payment_currency', 'payment_format', 'is_laundering'],\n",
              "      dtype='object')"
            ]
          },
          "metadata": {},
          "execution_count": 10
        }
      ],
      "source": [
        "# Verify the new column names\n",
        "dask_df.columns"
      ]
    },
    {
      "cell_type": "markdown",
      "metadata": {
        "id": "t3e3ZrfE7UtU"
      },
      "source": [
        "# Validation"
      ]
    },
    {
      "cell_type": "code",
      "execution_count": 11,
      "metadata": {
        "id": "8hxPtkg0BTxN",
        "colab": {
          "base_uri": "https://localhost:8080/"
        },
        "outputId": "19f8b639-872a-459d-8050-eaedab5a15be"
      },
      "outputs": [
        {
          "output_type": "stream",
          "name": "stdout",
          "text": [
            "Writing store.yaml\n"
          ]
        }
      ],
      "source": [
        "%%writefile store.yaml\n",
        "file_type: csv\n",
        "dataset_name: IBM Transactions for Anti Money Laundering\n",
        "file_name: IBM Transactions for Anti Money Laundering\n",
        "table_name: ibm_transactions\n",
        "inbound_delimiter: \",\"\n",
        "outbound_delimiter: \"|\"\n",
        "skip_leading_rows: 0\n",
        "columns:\n",
        "  - timestamp\n",
        "  - from_bank\n",
        "  - account\n",
        "  - to_bank\n",
        "  - account1\n",
        "  - amount_received\n",
        "  - receiving_currency\n",
        "  - amount_paid\n",
        "  - payment_currency\n",
        "  - payment_format\n",
        "  - is_laundering\n"
      ]
    },
    {
      "cell_type": "code",
      "execution_count": 12,
      "metadata": {
        "id": "juKmQB37kXM7"
      },
      "outputs": [],
      "source": [
        "import yaml\n",
        "\n",
        "def read_config_file(filepath):\n",
        "    with open(filepath, 'r') as stream:\n",
        "        try:\n",
        "          # Load YAML file as a Python dictionary\n",
        "          return yaml.load(stream, Loader=yaml.Loader)\n",
        "        except yaml.YAMLError as exc:\n",
        "          print(f\"Error reading YAML file: {exc}\")\n",
        "          return None"
      ]
    },
    {
      "cell_type": "code",
      "execution_count": 13,
      "metadata": {
        "id": "yH-lcHW_EL-A",
        "colab": {
          "base_uri": "https://localhost:8080/"
        },
        "outputId": "5213e6fe-fe00-457c-fdaa-40701c68a580"
      },
      "outputs": [
        {
          "output_type": "stream",
          "name": "stdout",
          "text": [
            "Column name and column length validation passed\n"
          ]
        },
        {
          "output_type": "execute_result",
          "data": {
            "text/plain": [
              "True"
            ]
          },
          "metadata": {},
          "execution_count": 13
        }
      ],
      "source": [
        "import pandas as pd\n",
        "import dask.dataframe as dd\n",
        "\n",
        "# Load the configuration\n",
        "config = read_config_file('/content/store.yaml')\n",
        "\n",
        "if config is None:\n",
        "    raise ValueError(\"Failed to load configuration file.\")\n",
        "\n",
        "# Read the dataset\n",
        "df = dd.read_csv('/content/IBM Transactions for Anti Money Laundering.csv', delimiter=config['inbound_delimiter'])\n",
        "\n",
        "# Perform validation\n",
        "def col_header_val(df, table_config):\n",
        "  df.columns = df.columns.str.lower()  # Convert to lowercase\n",
        "  df.columns = dask_df.columns.str.replace(' ', '_')  # Replace spaces with underscores\n",
        "  df.columns = df.columns.str.replace(r'[^\\w\\s]', '', regex=True)  # Replace special characters\n",
        "  df.columns = df.columns.str.strip('_')  # Remove leading/trailing underscores\n",
        "  df.columns = list(map(lambda x: x.strip(), list(df.columns)))  #Remove leading/trailing whitespaces\n",
        "\n",
        "  expected_col = list(map(lambda x: x.strip().lower(), table_config['columns']))\n",
        "  #expected_col = table_config['columns']\n",
        "  expected_col.sort()\n",
        "\n",
        "  df_columns = list(map(lambda x: x.lower(), list(df.columns)))\n",
        "  df_columns.sort()\n",
        "\n",
        "  if len(df_columns) == len(expected_col) and df_columns == expected_col:\n",
        "      print(\"Column name and column length validation passed\")\n",
        "      return True\n",
        "  else:\n",
        "      print(\"Column name and column length validation failed\")\n",
        "      mismatched_columns_file = list(set(df_columns).difference(expected_col))\n",
        "      print(\"Following columns are in the file but not in the YAML file:\", mismatched_columns_file)\n",
        "      missing_YAML_file = list(set(expected_col).difference(df_columns))\n",
        "      print(\"Following columns are in the YAML but missing from the file:\", missing_YAML_file)\n",
        "      return False\n",
        "\n",
        "\n",
        "col_header_val(df, config)\n"
      ]
    },
    {
      "cell_type": "code",
      "execution_count": 14,
      "metadata": {
        "id": "K7oPu1PREfhS",
        "colab": {
          "base_uri": "https://localhost:8080/"
        },
        "outputId": "6970ff71-c8a7-42b5-d2c6-cce8522afb1c"
      },
      "outputs": [
        {
          "output_type": "execute_result",
          "data": {
            "text/plain": [
              "['/content/IBM_Transactions_for_Anti_Money_Laundering_processed.gz']"
            ]
          },
          "metadata": {},
          "execution_count": 14
        }
      ],
      "source": [
        "df.to_csv('/content/IBM_Transactions_for_Anti_Money_Laundering_processed.gz', sep=config['outbound_delimiter'], compression='gzip', single_file=True)\n"
      ]
    },
    {
      "cell_type": "code",
      "execution_count": 15,
      "metadata": {
        "id": "8UwBugwkEd7d",
        "colab": {
          "base_uri": "https://localhost:8080/"
        },
        "outputId": "c5dba1e7-97d2-4392-e921-8dd5700de5c6"
      },
      "outputs": [
        {
          "output_type": "stream",
          "name": "stdout",
          "text": [
            "File Summary:\n",
            "Total rows: 31898238\n",
            "Total columns: 11\n",
            "File size: 622.42 MB\n"
          ]
        }
      ],
      "source": [
        "import os\n",
        "\n",
        "# Get the processed file size\n",
        "file_size = os.path.getsize('/content/IBM_Transactions_for_Anti_Money_Laundering_processed.gz') / (1024 * 1024)  # size in MB\n",
        "\n",
        "# Summary\n",
        "print(\"File Summary:\")\n",
        "print(f\"Total rows: {df.shape[0].compute()}\")\n",
        "print(f\"Total columns: {len(df.columns)}\")\n",
        "print(f\"File size: {file_size:.2f} MB\")\n"
      ]
    }
  ],
  "metadata": {
    "colab": {
      "provenance": []
    },
    "kernelspec": {
      "display_name": "Python 3",
      "name": "python3"
    },
    "language_info": {
      "name": "python"
    }
  },
  "nbformat": 4,
  "nbformat_minor": 0
}